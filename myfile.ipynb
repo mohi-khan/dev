{
 "cells": [
  {
   "cell_type": "code",
   "execution_count": 1,
   "id": "0ef5b558",
   "metadata": {},
   "outputs": [],
   "source": [
    "print('Hello World')"
   ]
  },
  {
   "cell_type": "code",
   "execution_count": 2,
   "id": "ce12e362",
   "metadata": {},
   "outputs": [],
   "source": [
    "def odd_or_even(num):\n",
    "    if num%2 == 0:\n",
    "        print('even')\n",
    "    else:\n",
    "        print('odd')"
   ]
  },
  {
   "cell_type": "code",
   "execution_count": 3,
   "id": "8d2bc685",
   "metadata": {},
   "outputs": [],
   "source": [
    "odd_or_even(23)"
   ]
  },
  {
   "cell_type": "code",
   "execution_count": 4,
   "id": "bff9b606",
   "metadata": {},
   "outputs": [],
   "source": [
    "odd_or_even(22)"
   ]
  }
 ],
 "metadata": {},
 "nbformat": 4,
 "nbformat_minor": 5
}
